{
 "cells": [
  {
   "cell_type": "code",
   "execution_count": 1,
   "metadata": {},
   "outputs": [
    {
     "name": "stderr",
     "output_type": "stream",
     "text": [
      "/usr/lib/python3.5/importlib/_bootstrap.py:222: RuntimeWarning: numpy.dtype size changed, may indicate binary incompatibility. Expected 96, got 88\n",
      "  return f(*args, **kwds)\n"
     ]
    }
   ],
   "source": [
    "import numpy as np\n",
    "from sklearn.metrics import confusion_matrix\n",
    "from sklearn import datasets\n"
   ]
  },
  {
   "cell_type": "code",
   "execution_count": 65,
   "metadata": {},
   "outputs": [
    {
     "data": {
      "text/plain": [
       "{0: {0: {1.0: 50, 2.0: 0},\n",
       "  1: {1.0: 8, 2.0: 42},\n",
       "  2: {0.0: 48, 1.0: 2, 2.0: 0, 3.0: 0},\n",
       "  3: {0.0: 49, 1.0: 1, 2.0: 0, 3.0: 0},\n",
       "  'total': 50},\n",
       " 1: {0: {1.0: 24, 2.0: 26},\n",
       "  1: {1.0: 42, 2.0: 8},\n",
       "  2: {0.0: 0, 1.0: 7, 2.0: 43, 3.0: 0},\n",
       "  3: {0.0: 0, 1.0: 10, 2.0: 39, 3.0: 1},\n",
       "  'total': 50},\n",
       " 2: {0: {1.0: 6, 2.0: 44},\n",
       "  1: {1.0: 33, 2.0: 17},\n",
       "  2: {0.0: 0, 1.0: 0, 2.0: 31, 3.0: 19},\n",
       "  3: {0.0: 0, 1.0: 0, 2.0: 5, 3.0: 45},\n",
       "  'total': 50},\n",
       " 'total_data': 150}"
      ]
     },
     "execution_count": 65,
     "metadata": {},
     "output_type": "execute_result"
    }
   ],
   "source": [
    "def fit(x_train,y_train):\n",
    "    result = {}\n",
    "    result['total_data'] = len(y_train)\n",
    "    for current_class in set(y_train):\n",
    "        result[current_class] = {}\n",
    "        result[current_class]['total'] = (current_class == y_train).sum()\n",
    "        for feature in range(len(x_train[0])):\n",
    "            result[current_class][feature] = {}\n",
    "            for different_values in set(x_train[:,feature]):\n",
    "                result[current_class][feature][different_values] =  (x_train[y_train == current_class,feature] == different_values).sum()\n",
    "\n",
    "    return result\n",
    "fit(iris.data,iris.target)"
   ]
  },
  {
   "cell_type": "code",
   "execution_count": 27,
   "metadata": {},
   "outputs": [],
   "source": [
    "iris = datasets.load_iris()\n",
    "for col in range(len(iris.data[0,:])):\n",
    "    label(iris.data[:,col])\n",
    "# iris.data"
   ]
  },
  {
   "cell_type": "code",
   "execution_count": 68,
   "metadata": {
    "collapsed": true
   },
   "outputs": [],
   "source": [
    "def probability(dictionary,current_class,row):\n",
    "    output = dictionary[current_class]['total']/dictionary['total_data']\n",
    "    for feature in row:\n",
    "        output *= dictionary[current_class][feature][row[feature]]/dictionary[current_class]['total']\n",
    "    return output"
   ]
  },
  {
   "cell_type": "code",
   "execution_count": 52,
   "metadata": {},
   "outputs": [],
   "source": [
    "def predict_single(dictionary,row):\n",
    "    classes = list(dictionary.keys())\n",
    "    total = dictionary['total_data']\n",
    "    best_p = -10000\n",
    "    best_class = -1\n",
    "    for current_class in classes:\n",
    "        if (current_class == \"total_data\"):\n",
    "            continue\n",
    "        else:\n",
    "            current_p = probability(dictionary,current_class,row)\n",
    "            if current_p > best_p:\n",
    "                best_p = current_p\n",
    "                best_class = current_class\n",
    "    return best_class"
   ]
  },
  {
   "cell_type": "code",
   "execution_count": 53,
   "metadata": {
    "collapsed": true
   },
   "outputs": [],
   "source": [
    "def predict(x_test,dictionary):\n",
    "    y_pred = []\n",
    "    for x in x_test:\n",
    "        x_class = predict_single(dictionary,x)\n",
    "        y_pred.append(x_class)\n",
    "    return y_pred"
   ]
  },
  {
   "cell_type": "code",
   "execution_count": null,
   "metadata": {
    "collapsed": true
   },
   "outputs": [],
   "source": []
  },
  {
   "cell_type": "code",
   "execution_count": 54,
   "metadata": {
    "collapsed": true
   },
   "outputs": [],
   "source": [
    "def label(column):\n",
    "    limit1 = column.mean()*0.5\n",
    "    limit2 = column.mean()\n",
    "    limit3 = column.mean()*1.5\n",
    "    for entry in range(len(column)):\n",
    "        if column[entry] <=limit1:\n",
    "            column[entry] = 0\n",
    "        elif column[entry] <=limit2 and column[entry] > limit1:\n",
    "            column[entry] = 1\n",
    "        elif column[entry] <= limit3 and column[entry] > limit2:\n",
    "            column[entry] = 2\n",
    "        elif column[entry] >limit3:\n",
    "            column[entry] = 3\n",
    "    return column"
   ]
  },
  {
   "cell_type": "code",
   "execution_count": 55,
   "metadata": {},
   "outputs": [
    {
     "name": "stderr",
     "output_type": "stream",
     "text": [
      "/home/sidkathuria14/.local/lib/python3.5/site-packages/sklearn/model_selection/_split.py:2026: FutureWarning: From version 0.21, test_size will always complement train_size unless both are specified.\n",
      "  FutureWarning)\n"
     ]
    }
   ],
   "source": [
    "from sklearn.model_selection import train_test_split\n",
    "x_train,x_test,y_train,y_test = train_test_split(iris.data,iris.target,train_size = 0.8,random_state = 40)"
   ]
  },
  {
   "cell_type": "code",
   "execution_count": 66,
   "metadata": {},
   "outputs": [],
   "source": [
    "dictionary = fit(x_train,y_train)"
   ]
  },
  {
   "cell_type": "code",
   "execution_count": 69,
   "metadata": {},
   "outputs": [
    {
     "name": "stderr",
     "output_type": "stream",
     "text": [
      "/home/sidkathuria14/.local/lib/python3.5/site-packages/ipykernel_launcher.py:4: VisibleDeprecationWarning: using a non-integer number instead of an integer will result in an error in the future\n",
      "  after removing the cwd from sys.path.\n"
     ]
    }
   ],
   "source": [
    "y_pred = predict(x_test,dictionary)"
   ]
  },
  {
   "cell_type": "code",
   "execution_count": 79,
   "metadata": {},
   "outputs": [
    {
     "name": "stdout",
     "output_type": "stream",
     "text": [
      "             precision    recall  f1-score   support\n",
      "\n",
      "          0       0.75      1.00      0.86         6\n",
      "          1       1.00      0.86      0.92        14\n",
      "          2       1.00      1.00      1.00        10\n",
      "\n",
      "avg / total       0.95      0.93      0.94        30\n",
      "\n",
      "[[ 6  0  0]\n",
      " [ 2 12  0]\n",
      " [ 0  0 10]]\n"
     ]
    }
   ],
   "source": [
    "from sklearn.metrics import confusion_matrix,classification_report\n",
    "cm = confusion_matrix(y_pred,y_test)\n",
    "cr = classification_report(y_pred,y_test)\n",
    "print(cr)\n",
    "print(cm)"
   ]
  },
  {
   "cell_type": "code",
   "execution_count": null,
   "metadata": {
    "collapsed": true
   },
   "outputs": [],
   "source": []
  }
 ],
 "metadata": {
  "kernelspec": {
   "display_name": "Python 3",
   "language": "python",
   "name": "python3"
  },
  "language_info": {
   "codemirror_mode": {
    "name": "ipython",
    "version": 3
   },
   "file_extension": ".py",
   "mimetype": "text/x-python",
   "name": "python",
   "nbconvert_exporter": "python",
   "pygments_lexer": "ipython3",
   "version": "3.5.2"
  }
 },
 "nbformat": 4,
 "nbformat_minor": 2
}
